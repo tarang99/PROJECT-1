{
 "cells": [
  {
   "cell_type": "code",
   "execution_count": null,
   "id": "813a3ae6-0ced-463c-a790-25079eaab474",
   "metadata": {},
   "outputs": [],
   "source": [
    "# Ojective "
   ]
  },
  {
   "cell_type": "code",
   "execution_count": null,
   "id": "29fee461-bb75-488b-90ad-82de91692983",
   "metadata": {},
   "outputs": [],
   "source": [
    "# Question"
   ]
  },
  {
   "cell_type": "code",
   "execution_count": null,
   "id": "be3b4742-6253-44a3-bddb-70c37ec200d3",
   "metadata": {},
   "outputs": [],
   "source": [
    "# Codes to get the data from API"
   ]
  },
  {
   "cell_type": "code",
   "execution_count": 1,
   "id": "53a1f7e9-3c94-4198-b3e6-8f2988c98e7e",
   "metadata": {},
   "outputs": [],
   "source": [
    "# Growth Stock Definition (Adrian)"
   ]
  },
  {
   "cell_type": "code",
   "execution_count": 2,
   "id": "a586a190-87dc-4800-b2de-02dfa9a66b8c",
   "metadata": {},
   "outputs": [],
   "source": [
    "# Google (Tarang)"
   ]
  },
  {
   "cell_type": "code",
   "execution_count": 3,
   "id": "02f3d609-b182-488b-a4c0-67fef4fd2771",
   "metadata": {},
   "outputs": [],
   "source": [
    "# Amazon (Tarang)"
   ]
  },
  {
   "cell_type": "code",
   "execution_count": 4,
   "id": "5726a924-9213-44a0-8a05-4dc810b6cec5",
   "metadata": {},
   "outputs": [],
   "source": [
    "# Meta (Tarang)"
   ]
  },
  {
   "cell_type": "code",
   "execution_count": 5,
   "id": "0b707600-3a8b-4726-874c-413426648806",
   "metadata": {},
   "outputs": [],
   "source": [
    "# Dividend Stock Definition (Adrian)"
   ]
  },
  {
   "cell_type": "code",
   "execution_count": 6,
   "id": "67fc4675-7377-40bb-8713-8c66bfb418a9",
   "metadata": {},
   "outputs": [],
   "source": [
    "# Embridge (Eric)"
   ]
  },
  {
   "cell_type": "code",
   "execution_count": 7,
   "id": "85b881fb-f6f7-4ff9-8394-4a6d50c299f5",
   "metadata": {},
   "outputs": [],
   "source": [
    "# Cola (Eric)"
   ]
  },
  {
   "cell_type": "code",
   "execution_count": 8,
   "id": "6b8ef6f9-f940-4f24-ab63-e651c128dec4",
   "metadata": {},
   "outputs": [],
   "source": [
    "# Blue chip Definition (Adrian)"
   ]
  },
  {
   "cell_type": "code",
   "execution_count": 9,
   "id": "f4d09b8d-e69c-4762-83bd-5e7e5cab49c3",
   "metadata": {},
   "outputs": [],
   "source": [
    "# TD (Saiful)"
   ]
  },
  {
   "cell_type": "code",
   "execution_count": 10,
   "id": "f2cd297b-202d-4dcc-afb1-3ec713a6f6d9",
   "metadata": {},
   "outputs": [],
   "source": [
    "# RBC (Saiful)"
   ]
  },
  {
   "cell_type": "code",
   "execution_count": null,
   "id": "1238d7dd-81ff-4e4f-80d2-d2e5a85802eb",
   "metadata": {},
   "outputs": [],
   "source": [
    "# Interest (Time and date) (Changes)"
   ]
  },
  {
   "cell_type": "code",
   "execution_count": 11,
   "id": "2eb70073-68bc-413b-a95c-db1c9cb6e3d3",
   "metadata": {},
   "outputs": [],
   "source": [
    "# Concat the close price of each stocks"
   ]
  },
  {
   "cell_type": "code",
   "execution_count": null,
   "id": "d06887d2-eb97-49c6-809f-ec8e192186ab",
   "metadata": {},
   "outputs": [],
   "source": [
    "# Combine interest rate at the bottom "
   ]
  }
 ],
 "metadata": {
  "kernelspec": {
   "display_name": "Python 3 (ipykernel)",
   "language": "python",
   "name": "python3"
  },
  "language_info": {
   "codemirror_mode": {
    "name": "ipython",
    "version": 3
   },
   "file_extension": ".py",
   "mimetype": "text/x-python",
   "name": "python",
   "nbconvert_exporter": "python",
   "pygments_lexer": "ipython3",
   "version": "3.7.13"
  }
 },
 "nbformat": 4,
 "nbformat_minor": 5
}
